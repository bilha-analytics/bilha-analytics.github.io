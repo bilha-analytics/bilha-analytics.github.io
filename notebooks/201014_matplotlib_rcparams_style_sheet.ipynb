{
 "cells": [
  {
   "cell_type": "markdown",
   "id": "1b2c46ac",
   "metadata": {},
   "source": [
    "#  Styling plots in matplotlib and seaborn\n",
    "\n",
    "- A style sheet is an rcParams config file, which only includes plot-styling parameters. Multiple style sheets can be combined/cascaded by providing them as a list. \n",
    "\n",
    "- You may use predefined style sheets from seaborn or matplotlib. You may also chain/cascade them with your custom styles. \n",
    "\n",
    "- Styles can be applied globally, which affects all plots after the style sheet has been set, or using context managers for temporary changes.  \n",
    "\n",
    "- `sns.set_context` avails styles for auto-scaling your graphics to different media like notebook, talk (presentations), paper or posters. \n"
   ]
  },
  {
   "cell_type": "code",
   "execution_count": 1,
   "id": "9f51963b",
   "metadata": {},
   "outputs": [],
   "source": [
    "import numpy as np\n",
    "import matplotlib.pyplot as plt\n",
    "import matplotlib as mpl\n",
    "import seaborn as sns\n",
    "\n",
    "from cycler import cycler\n",
    "%matplotlib inline"
   ]
  },
  {
   "cell_type": "markdown",
   "id": "0fc81374",
   "metadata": {},
   "source": [
    "Here's an example of an update to an `rcParams` setting that is global and affects all plots defined after it"
   ]
  },
  {
   "cell_type": "code",
   "execution_count": 2,
   "id": "2c62d416",
   "metadata": {},
   "outputs": [],
   "source": [
    "plt.rcParams[\"figure.facecolor\"] = 'white'"
   ]
  },
  {
   "cell_type": "markdown",
   "id": "1380962b",
   "metadata": {},
   "source": [
    "### Setting up some dummy data for the rest of the examples"
   ]
  },
  {
   "cell_type": "code",
   "execution_count": 3,
   "id": "dc47b0e2",
   "metadata": {},
   "outputs": [],
   "source": [
    "RNG = np.random.default_rng( 234) \n",
    "x = RNG.integers(low=0, high=12, size=100)\n",
    "m = RNG.random()*2\n",
    "c = RNG.random()*1\n",
    "y = x*m + c \n"
   ]
  },
  {
   "cell_type": "markdown",
   "id": "f6770ef3",
   "metadata": {},
   "source": [
    "## 1. Basic plotting using the defaults\n",
    "\n",
    "Different ways to create plots, such as using `matplotlib.pyplot` or `seaborn`. Seaborn is a higher level interface "
   ]
  },
  {
   "cell_type": "code",
   "execution_count": 4,
   "id": "189b0524",
   "metadata": {},
   "outputs": [
    {
     "data": {
      "image/png": "[encoded data removed]",
      "text/plain": [
       "<Figure size 432x288 with 1 Axes>"
      ]
     },
     "metadata": {},
     "output_type": "display_data"
    }
   ],
   "source": [
    "## ==== Line plot example \n",
    "plt.plot(x, y)\n",
    "plt.title(f'Example line plot $y = {np.mean(m):.2f} X + {np.mean(c):.2f} $')\n",
    "plt.show();"
   ]
  },
  {
   "cell_type": "code",
   "execution_count": 5,
   "id": "cd0e1a4b",
   "metadata": {},
   "outputs": [
    {
     "data": {
      "image/png": "[encoded data removed]",
      "text/plain": [
       "<Figure size 432x288 with 1 Axes>"
      ]
     },
     "metadata": {},
     "output_type": "display_data"
    }
   ],
   "source": [
    "### ==== Scatter example using seaborn\n",
    "m = RNG.random()*2 + RNG.random( len(x) )*.1\n",
    "c = RNG.random()*1 + RNG.random( len(x) )*.1\n",
    "y = x*m + c \n",
    "ax = sns.scatterplot(x=x, y=y)\n",
    "ax.set_title(f'Example scatter plot $y = {np.mean(m):.2f} X + {np.mean(c):.2f} $')\n",
    "plt.show();"
   ]
  },
  {
   "cell_type": "markdown",
   "id": "2cb1cf13",
   "metadata": {},
   "source": [
    "## 2. Style sheets"
   ]
  },
  {
   "cell_type": "markdown",
   "id": "d8ac3931",
   "metadata": {},
   "source": [
    "See predefined style sheets from `matplotlib` and `seaborn`"
   ]
  },
  {
   "cell_type": "code",
   "execution_count": 6,
   "id": "05fae31f",
   "metadata": {},
   "outputs": [
    {
     "name": "stdout",
     "output_type": "stream",
     "text": [
      "['Solarize_Light2', '_classic_test_patch', '_mpl-gallery', '_mpl-gallery-nogrid', 'bmh', 'classic', 'dark_background', 'fast', 'fivethirtyeight', 'ggplot', 'grayscale', 'seaborn', 'seaborn-bright', 'seaborn-colorblind', 'seaborn-dark', 'seaborn-dark-palette', 'seaborn-darkgrid', 'seaborn-deep', 'seaborn-muted', 'seaborn-notebook', 'seaborn-paper', 'seaborn-pastel', 'seaborn-poster', 'seaborn-talk', 'seaborn-ticks', 'seaborn-white', 'seaborn-whitegrid', 'tableau-colorblind10']\n"
     ]
    }
   ],
   "source": [
    "print( plt.style.available )"
   ]
  },
  {
   "cell_type": "markdown",
   "id": "a7648beb",
   "metadata": {},
   "source": [
    "**Set a global style sheet and a presentation media context for scaling purposes**\n",
    "\n",
    "This will affect all subsequent plots"
   ]
  },
  {
   "cell_type": "code",
   "execution_count": 7,
   "id": "43b7762d",
   "metadata": {},
   "outputs": [],
   "source": [
    "plt.style.use( 'ggplot') #'fivethirtyeight') \n",
    "sns.set_context('paper')"
   ]
  },
  {
   "cell_type": "markdown",
   "id": "ee468040",
   "metadata": {},
   "source": [
    "First, setting up some dummy data"
   ]
  },
  {
   "cell_type": "code",
   "execution_count": 8,
   "id": "d803f0e2",
   "metadata": {},
   "outputs": [],
   "source": [
    "## 1. dummy data\n",
    "x = RNG.integers(low=0, high=12, size=1000) \n",
    "m = RNG.random()*2 + RNG.random( len(x) )*.3\n",
    "c = RNG.random()*1 + RNG.random( len(x) )*.5\n",
    "y = x*m + c \n",
    "# bins for categorical variable  z \n",
    "bins = [np.quantile(y, q) for q in (.25, .5, .75,)]\n",
    "z = np.digitize(y, bins)\n",
    "z_cats = np.unique( z )"
   ]
  },
  {
   "cell_type": "markdown",
   "id": "a7a8beb7",
   "metadata": {},
   "source": [
    "### 2.1. Styling using inline code\n",
    "- `Axes` setters and properties \n",
    "- Runtime `rcParams` settings updates"
   ]
  },
  {
   "cell_type": "code",
   "execution_count": 9,
   "id": "2ea56340",
   "metadata": {},
   "outputs": [],
   "source": [
    "## ---- helper for updating box plot artist so that the lines/edges take on the same color as the facecolor of the box\n",
    "\n",
    "def update_box_artist(ax):\n",
    "    # iterate over boxes\n",
    "    for i,box in enumerate(ax.artists):\n",
    "        fc  = box.get_facecolor()\n",
    "        box.set_edgecolor( fc )\n",
    "        \n",
    "        print( j, fc)\n",
    "\n",
    "        # iterate over whiskers and median lines\n",
    "        for j in range(6*i,6*(i+1)):\n",
    "             ax.lines[j].set_color( fc )"
   ]
  },
  {
   "cell_type": "markdown",
   "id": "488af585",
   "metadata": {},
   "source": [
    "First we define a figure object that can plot multiple plots. In this case it has 1 row and 2 columns for a total of two plots\n",
    "\n",
    "Secondly we define some styling properties for a boxplot. These properties are defined as dicts and will be used by both the `matplotlib` plot and the `seaborn` plot. \n",
    "\n",
    "Thirdly, we create a `matplotlib` boxplot on the first axes of the figure. \n",
    "\n",
    "Fourthly, we create a `seaborn` boxplot on the second axes of the figure. Notice the following,\n",
    "\n",
    "- Any parameter that can be passed to the `matplotlib` box plot can be passed to the `seaborn` boxplot \n",
    "- `Seaborn` has some additional properties that make it nicer to work with. For instance, we can set the boxplot faceolor by simply setting the variable `hue` during constraction of the boxplot and automatically generates a legend. For matplot, we have to iterate over the boxplot `artist` objects ourselves. \n",
    "- \n"
   ]
  },
  {
   "cell_type": "code",
   "execution_count": 10,
   "id": "8508a81f",
   "metadata": {
    "scrolled": false
   },
   "outputs": [
    {
     "name": "stderr",
     "output_type": "stream",
     "text": [
      "No artists with labels found to put in legend.  Note that artists whose label start with an underscore are ignored when legend() is called with no argument.\n"
     ]
    },
    {
     "data": {
      "image/png": "[encoded data removed]",
      "text/plain": [
       "<Figure size 864x288 with 2 Axes>"
      ]
     },
     "metadata": {},
     "output_type": "display_data"
    }
   ],
   "source": [
    "## 1. Plotting figure \n",
    "fig, axz = plt.subplots( 1, 2, figsize=(6*2,4))\n",
    "axz = axz.flatten()\n",
    "\n",
    "## 2. Some boxplot style definitions; setup when creating the plot \n",
    "## all these can be defined in rcParams config file as well. \n",
    "showfliers = False \n",
    "showcaps = True \n",
    "linecolor = '#999'\n",
    "medprops = dict(color='gray',linewidth=.7, linestyle='-',)\n",
    "boxprops = dict(color=linecolor,linewidth=.7,alpha=.8, )\n",
    "capprops = dict(color=linecolor,)\n",
    "whisprops = dict(color=linecolor)\n",
    "\n",
    "\n",
    "\n",
    "## 3.1. plot with plt \n",
    "z_update = [ np.array([xi for xi,i in zip(x,z) if i==zi]) for zi in np.unique(z)] \n",
    "box_props = axz[0].boxplot( z_update ,    ## plt.boxplot returns a dict with different properties \n",
    "               labels=np.unique( z ),                \n",
    "               patch_artist = True,       ## avail artist for further customization\n",
    "               showfliers=showfliers,     ## whether to show outliers\n",
    "               showcaps=showcaps,          \n",
    "               medianprops = medprops,\n",
    "               boxprops = boxprops,        ## additional box style\n",
    "               capprops = capprops,\n",
    "               whiskerprops=whisprops\n",
    "               )\n",
    "\n",
    "## 3.2. set fill color using artist patch else everything has same color \n",
    "colors = ['lightgreen', 'orange', 'lightblue','pink' ] \n",
    "for box_patch, col in zip(box_props['boxes'], colors):\n",
    "    box_patch.set_facecolor( col )\n",
    "    \n",
    "    \n",
    "\n",
    "## 4.1 plot with sns and its abstraction on some of the properties \n",
    "## Notice how plt arguments can also passed to sns plots, since sns is an abstraction of plt\n",
    "sax = sns.boxplot(x=z, y=x, \n",
    "                  dodge=False,\n",
    "                  showfliers=showfliers, ## plt.boxplot properties\n",
    "                  showcaps=showcaps,\n",
    "                  medianprops = medprops,\n",
    "                  boxprops = boxprops,\n",
    "                  capprops = capprops,\n",
    "                  whiskerprops=whisprops,\n",
    "                  hue=z,                  ## sns additional abstractions                   \n",
    "                  width=.5 ,\n",
    "                  palette=\"Set2\",\n",
    "                  ax=axz[1]               ## passing axes object \n",
    "                 )\n",
    "\n",
    "\n",
    "\n",
    "## 5.1 Set axes properties and additional inline settings\n",
    "x_label = 'bin category by quartiles'\n",
    "y_label = 'x values'\n",
    "\n",
    "## 5.2 Updating the axes objects and ploting a figure with multiple plots\n",
    "for ax, t in [(axz[0], 'Using matplotlib'),\n",
    "              (sax, 'Using seaborn'),]:\n",
    "    ## i.setter functions  \n",
    "    ax.set_title( t )\n",
    "    ax.set_xlabel( x_label )\n",
    "    ax.set_ylabel( y_label)\n",
    "    ## ii.access elements directly \n",
    "    ax.grid(visible=False, axis='x')\n",
    "    for spine in ['left', 'bottom']:        \n",
    "        ax.spines[spine].set_visible(True)\n",
    "    for spine in ['right', 'top']:        \n",
    "        ax.spines[spine].set_visible(False)\n",
    "    ax.legend().remove()                     ## sns auto-gens legend \n",
    "    ## iii. additional changes to the artist - match boxborder and box fill colors\n",
    "    update_box_artist( ax )\n",
    "\n",
    "\n",
    "plt.tight_layout()\n",
    "plt.show()"
   ]
  },
  {
   "cell_type": "markdown",
   "id": "e68ae322",
   "metadata": {},
   "source": [
    "**Temporarily using a customer style sheet together with a predefined one to make the same plots**\n"
   ]
  },
  {
   "cell_type": "code",
   "execution_count": 11,
   "id": "7d524b03",
   "metadata": {},
   "outputs": [
    {
     "name": "stderr",
     "output_type": "stream",
     "text": [
      "No artists with labels found to put in legend.  Note that artists whose label start with an underscore are ignored when legend() is called with no argument.\n"
     ]
    },
    {
     "data": {
      "image/png": "[encoded data removed]",
      "text/plain": [
       "<Figure size 864x288 with 2 Axes>"
      ]
     },
     "metadata": {},
     "output_type": "display_data"
    }
   ],
   "source": [
    "\n",
    "sns.set_context('notebook')\n",
    "with plt.style.context( ['fivethirtyeight', 'mystyler.txt']): \n",
    "    ## 1. Plotting figure \n",
    "    fig, axz = plt.subplots( 1, 2, figsize=(6*2,4))\n",
    "    axz = axz.flatten()\n",
    "\n",
    "    ## 3.1. plot with plt \n",
    "    z_update = [ np.array([xi for xi,i in zip(x,z) if i==zi]) for zi in np.unique(z)] \n",
    "    box_props = axz[0].boxplot( z_update ,    ## plt.boxplot returns a dict with different properties \n",
    "                   labels=np.unique( z ),                \n",
    "                   patch_artist = True,       ## avail artist for further customization\n",
    "                   )\n",
    "\n",
    "    ## 3.2. set fill color using artist patch else everything has same color \n",
    "    colors = ['lightgreen', 'orange', 'lightblue','pink' ] \n",
    "    for box_patch, col in zip(box_props['boxes'], colors):\n",
    "        box_patch.set_facecolor( col )\n",
    "\n",
    "\n",
    "\n",
    "    ## 4.1 plot with sns and its abstraction on some of the properties \n",
    "    ## Notice how plt arguments can also passed to sns plots, since sns is an abstraction of plt\n",
    "    sax = sns.boxplot(x=z, y=x, \n",
    "                      dodge=False,\n",
    "                      hue=z,                  ## sns additional abstractions    \n",
    "                      width=.5 ,\n",
    "                      linewidth=.7 ,\n",
    "                      palette=\"Set2\",\n",
    "                      ax=axz[1]               ## passing axes object \n",
    "                     )\n",
    "\n",
    "\n",
    "    ## 5.1 Set axes properties and additional inline settings\n",
    "    x_label = 'bin category by quartiles'\n",
    "    y_label = 'x values'\n",
    "\n",
    "    ## 5.2 Updating the axes objects and ploting a figure with multiple plots\n",
    "    for ax, t in [(axz[0], 'Using matplotlib'),\n",
    "                  (sax, 'Using seaborn'),]:\n",
    "        ## i.setter functions  \n",
    "        ax.set_title( t )\n",
    "        ax.set_xlabel( x_label )\n",
    "        ax.set_ylabel( y_label)\n",
    "        ## ii.access elements directly \n",
    "        ax.legend().remove()                     ## sns auto-gens legend \n",
    "        ## iii. additional changes to the artist - match boxborder and box fill colors\n",
    "        update_box_artist( ax )\n",
    "\n",
    "\n",
    "    plt.tight_layout()\n",
    "    plt.show()"
   ]
  },
  {
   "cell_type": "code",
   "execution_count": null,
   "id": "9b2ba9d6",
   "metadata": {},
   "outputs": [],
   "source": []
  }
 ],
 "metadata": {
  "kernelspec": {
   "display_name": "Python 3 (ipykernel)",
   "language": "python",
   "name": "python3"
  },
  "language_info": {
   "codemirror_mode": {
    "name": "ipython",
    "version": 3
   },
   "file_extension": ".py",
   "mimetype": "text/x-python",
   "name": "python",
   "nbconvert_exporter": "python",
   "pygments_lexer": "ipython3",
   "version": "3.8.12"
  }
 },
 "nbformat": 4,
 "nbformat_minor": 5
}
